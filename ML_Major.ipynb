{
 "cells": [
  {
   "cell_type": "markdown",
   "metadata": {},
   "source": [
    "   ## Major project\n",
    "\n",
    "### Problem statement:\n",
    "          Design a project from the MNIST dataset to identify digit classification using the SVM algorithm\n"
   ]
  },
  {
   "cell_type": "code",
   "execution_count": 1,
   "metadata": {},
   "outputs": [],
   "source": [
    "import pandas as pd\n",
    "import numpy as np\n",
    "import seaborn as sns\n",
    "import matplotlib.pyplot as plt\n",
    "import matplotlib as mpl\n",
    "\n",
    "from sklearn.preprocessing import StandardScaler\n",
    "\n",
    "from sklearn.svm import SVC\n",
    "\n",
    "from sklearn.metrics import confusion_matrix,classification_report\n",
    "from sklearn.metrics import roc_auc_score\n",
    "\n",
    "from sklearn.model_selection import GridSearchCV\n",
    "from sklearn.model_selection import train_test_split\n",
    "\n",
    "from sklearn.pipeline import Pipeline "
   ]
  },
  {
   "cell_type": "code",
   "execution_count": null,
   "metadata": {},
   "outputs": [],
   "source": [
    "data=pd.read_csv(\"digit_svm.csv\")\n",
    "data.head()"
   ]
  },
  {
   "cell_type": "code",
   "execution_count": null,
   "metadata": {},
   "outputs": [],
   "source": [
    "data.shape"
   ]
  },
  {
   "cell_type": "code",
   "execution_count": null,
   "metadata": {},
   "outputs": [],
   "source": [
    "data['label'].value_counts()"
   ]
  },
  {
   "cell_type": "code",
   "execution_count": null,
   "metadata": {},
   "outputs": [],
   "source": [
    "data['label'].value_counts(normalize=True)"
   ]
  },
  {
   "cell_type": "code",
   "execution_count": null,
   "metadata": {
    "scrolled": true
   },
   "outputs": [],
   "source": [
    "sns.countplot(data['label'])\n",
    "plt.show()"
   ]
  },
  {
   "cell_type": "code",
   "execution_count": null,
   "metadata": {},
   "outputs": [],
   "source": [
    "y_data=data['label']\n",
    "feature_col=[i for i in data.columns if i != 'label']\n",
    "X_data=data[feature_col]"
   ]
  },
  {
   "cell_type": "code",
   "execution_count": null,
   "metadata": {},
   "outputs": [],
   "source": [
    "some_digit =X_data.iloc[144].values\n",
    "some_digit_image = some_digit.reshape(28, 28)\n",
    "plt.imshow(some_digit_image, cmap = mpl.cm.binary, interpolation=\"nearest\")\n",
    "plt.axis(\"off\")\n",
    "plt.show()"
   ]
  },
  {
   "cell_type": "code",
   "execution_count": null,
   "metadata": {},
   "outputs": [],
   "source": [
    "X_train,X_test,y_train,y_test=train_test_split(X_data,y_data,test_size=0.8,random_state=40,stratify=y_data)"
   ]
  },
  {
   "cell_type": "code",
   "execution_count": null,
   "metadata": {},
   "outputs": [],
   "source": [
    "pipeline=Pipeline([('scaler',StandardScaler()),\n",
    "                 ('SVM',SVC(kernel='rbf',probability=True))])\n",
    "params={'SVM__C':[0.01,0.1,1,10,100], 'SVM__gamma':[10,1,0.1,0.01]}\n",
    "model= GridSearchCV(pipeline,params,cv=3)\n",
    "model.fit(X_train,y_train)\n",
    "\n",
    "print(\"testing score=%3.2f\"%(model.score(X_test,y_test)))\n",
    "print(\"best parameter fro the data:\",model.best_params_)\n",
    "\n",
    "y_pred=model.predict(X_test)\n",
    "print(\"confusion matrix: \\n\",confusion_matrix(y_test,y_pred))\n",
    " \n",
    "print(classification_report(y_test,y_pred,digits=3))\n",
    "\n",
    "y_prob = model.predict_proba(X_test)\n",
    "\n",
    "\n",
    "macro_roc_auc_ovr = roc_auc_score(y_test, y_prob, multi_class=\"ovr\",\n",
    "                                  average=\"macro\")\n",
    "weighted_roc_auc_ovr = roc_auc_score(y_test, y_prob, multi_class=\"ovr\",\n",
    "                                     average=\"weighted\")\n",
    "\n",
    "print(\"One-vs-Rest ROC AUC scores:\\n{:.6f} (macro),\\n{:.6f} \"\n",
    "      \"(weighted by prevalence)\"\n",
    "      .format(macro_roc_auc_ovr, weighted_roc_auc_ovr))\n"
   ]
  },
  {
   "cell_type": "code",
   "execution_count": null,
   "metadata": {},
   "outputs": [],
   "source": [
    "pipeline=Pipeline([('scaler',StandardScaler()),\n",
    "                 ('SVM',SVC(kernel='poly',probability=True))])\n",
    "params={'SVM__C':[0.001,0.007,0.01,0.1,1,10], 'SVM__gamma':[10,2.5,1,0.1,0.01]}\n",
    "model= GridSearchCV(pipeline,params,cv=3)\n",
    "\n",
    "model.fit(X_train,y_train)\n",
    "\n",
    "\n",
    "print(\"testing score=%3.2f\"%(model.score(X_test,y_test)))\n",
    "print(\"best parameter fro the data:\",model.best_params_)\n",
    "\n",
    "y_pred=model.predict(X_test)\n",
    "print(\"confusion matrix: \\n\",confusion_matrix(y_test,y_pred))\n",
    "\n",
    "print(classification_report(y_test, y_pred,digits=3))\n",
    "y_prob = model.predict_proba(X_test)\n",
    "\n",
    " \n",
    "macro_roc_auc_ovr = roc_auc_score(y_test, y_prob, multi_class=\"ovr\",\n",
    "                                  average=\"macro\")\n",
    "weighted_roc_auc_ovr = roc_auc_score(y_test, y_prob, multi_class=\"ovr\",\n",
    "                                     average=\"weighted\")\n",
    "\n",
    "print(\"One-vs-Rest ROC AUC scores:\\n{:.6f} (macro),\\n{:.6f} \"\n",
    "      \"(weighted by prevalence)\"\n",
    "      .format(macro_roc_auc_ovr, weighted_roc_auc_ovr))\n",
    "\n"
   ]
  },
  {
   "cell_type": "code",
   "execution_count": null,
   "metadata": {},
   "outputs": [],
   "source": []
  }
 ],
 "metadata": {
  "kernelspec": {
   "display_name": "Python 3",
   "language": "python",
   "name": "python3"
  },
  "language_info": {
   "codemirror_mode": {
    "name": "ipython",
    "version": 3
   },
   "file_extension": ".py",
   "mimetype": "text/x-python",
   "name": "python",
   "nbconvert_exporter": "python",
   "pygments_lexer": "ipython3",
   "version": "3.8.3"
  }
 },
 "nbformat": 4,
 "nbformat_minor": 4
}
